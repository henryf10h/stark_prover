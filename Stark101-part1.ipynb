{
 "cells": [
  {
   "cell_type": "markdown",
   "metadata": {},
   "source": [
    "*Copyright 2019 StarkWare Industries Ltd.<br> Licensed under the Apache License, Version 2.0 (the \"License\"). You may not use this file except in compliance with the License. You may obtain a copy of the License at https://www.starkware.co/open-source-license/ <br> Unless required by applicable law or agreed to in writing, software distributed under the License is distributed on an \"AS IS\" BASIS, WITHOUT WARRANTIES OR CONDITIONS OF ANY KIND, either express or implied. See the License for the specific language governing permissions and limitations under the License.*"
   ]
  },
  {
   "cell_type": "markdown",
   "metadata": {
    "tags": []
   },
   "source": [
    "# Part 1: Trace and Low-Degree Extension\n",
    "\n",
    "- [Video Lecture (youtube)](https://www.youtube.com/watch?v=Y0uJz9VL3Fo)\n",
    "- [Slides (PDF)](https://starkware.co/wp-content/uploads/2021/12/STARK101-Part1.pdf)\n",
    "\n",
    "Today we will develop a STARK prover for the FibonacciSq sequence over a finite field.\n",
    "The FibonacciSq sequence is defined by the recurrence relation $a_{n+2} = a_{n+1} ^2 + a_n ^2$.\n",
    "<br>By the end of the day, your code will produce a *STARK* proof attesting to the following statement: <br>**I know a field element $X\\in \\mathbb{F}$ such that the 1023rd element of the FibonacciSq sequence starting with $1, X$ is $2338775057$**.\n",
    "<br><br>\n",
    "## The Basics\n",
    "### FieldElement class\n",
    "We use our `FieldElement` class to represent field elements.<br> You can construct instances of `FieldElement` from integers, and then add, multiply, divide, get inverse, and so on.\n",
    "The underlying field of this class is $\\mathbb{F}_{3221225473}$ ($3221225473 = 3 \\cdot 2^{30} + 1$), so all operations are done modulo 3221225473.\n",
    "<br><br>\n",
    "Try it by running the following cell (shift + enter):"
   ]
  },
  {
   "cell_type": "code",
   "execution_count": 2,
   "metadata": {
    "scrolled": true
   },
   "outputs": [
    {
     "data": {
      "text/plain": [
       "'1610612737 ==> -1610612736'"
      ]
     },
     "execution_count": 2,
     "metadata": {},
     "output_type": "execute_result"
    }
   ],
   "source": [
    "from field import FieldElement\n",
    "FieldElement(1610612736)\n",
    "\"1610612736 ==> 1610612736\"\n",
    "\"1610612737 ==> -1610612736\""
   ]
  },
  {
   "cell_type": "markdown",
   "metadata": {},
   "source": [
    "## FibonacciSq Trace\n",
    "\n",
    "To start, let's construct a list `a` of length 1023, whose first two elements will be FieldElement objects representing 1 and 3141592, respectively. The next 1021 elements will be the FibonacciSq sequence induced by these two elements. `a` is called the trace of FibonacciSq, or, when the context is clear, the trace. <br>\n",
    "Correct the code below to fill `a`:"
   ]
  },
  {
   "cell_type": "code",
   "execution_count": 7,
   "metadata": {},
   "outputs": [
    {
     "name": "stdout",
     "output_type": "stream",
     "text": [
      "1023\n"
     ]
    }
   ],
   "source": [
    "a = [FieldElement(1), FieldElement(3141592)] # we already have the first two elements\n",
    "\n",
    "#we need to add the next elements of the fibSequence \n",
    "for i in range(1021):\n",
    "    a.append(a[-2]**2 + a[-1]**2)\n",
    "print(len(a))"
   ]
  },
  {
   "cell_type": "markdown",
   "metadata": {},
   "source": [
    "Solution (click to the ... to unhide):"
   ]
  },
  {
   "cell_type": "code",
   "execution_count": 6,
   "metadata": {
    "tags": []
   },
   "outputs": [
    {
     "name": "stdout",
     "output_type": "stream",
     "text": [
      "1023\n"
     ]
    }
   ],
   "source": [
    "a = [FieldElement(1), FieldElement(3141592)]\n",
    "while len(a) < 1023:\n",
    "    a.append(a[-2] * a[-2] + a[-1] * a[-1])\n",
    "    \n",
    "print(len(a))"
   ]
  },
  {
   "cell_type": "markdown",
   "metadata": {},
   "source": [
    "### Test Your Code\n",
    "Run the next cell to test that you have filled `a` correctly.<br> Note that this is in fact a verifier, albeit very naive and non-succinct one, as it goes over the sequence, element by element, making sure it is correct."
   ]
  },
  {
   "cell_type": "code",
   "execution_count": 8,
   "metadata": {},
   "outputs": [
    {
     "name": "stdout",
     "output_type": "stream",
     "text": [
      "Success!\n"
     ]
    }
   ],
   "source": [
    "assert len(a) == 1023, 'The trace must consist of exactly 1023 elements.'\n",
    "assert a[0] == FieldElement(1), 'The first element in the trace must be the unit element.'\n",
    "for i in range(2, 1023):\n",
    "    assert a[i] == a[i - 1] * a[i - 1] + a[i - 2] * a[i - 2], f'The FibonacciSq recursion rule does not apply for index {i}'\n",
    "assert a[1022] == FieldElement(2338775057), 'Wrong last element!'\n",
    "print('Success!')"
   ]
  },
  {
   "cell_type": "markdown",
   "metadata": {
    "tags": []
   },
   "source": [
    "## Thinking of Polynomials\n",
    "We now want to think of the sequence as the evaluation of some, yet unknown, polynomial $f$ of degree 1022 (due to the Unisolvence Theorem).\n",
    "We will choose the domain to be some subgroup $G \\subseteq \\mathbb{F}^\\times$ of size 1024, for reasons that will become clear later.\n",
    "\n",
    "(Recall that $\\mathbb{F}^\\times$ denotes the multiplicative group of $\\mathbb{F}$, which we get from $\\mathbb{F}$ by omitting the zero element with the induced multiplication from the field. A subgroup of size 1024 exists because $\\mathbb{F}^\\times$ is a cyclic group of size $3\\cdot 2^{30}$, so it contains a subgroup of size $2^i$ for any $0 \\leq i \\leq 30$).\n",
    "### Find a Group of Size 1024\n",
    "If we find an element $g \\in \\mathbb{F}$ whose (multiplicative) order is 1024, then $g$ will generate such a group.\n",
    "The class `FieldElement` provides a static method `generator()` which returns an element that generates $\\mathbb{F}^\\times$ (whose order is $|\\mathbb{F}^\\times|$).\n",
    "1. Use it to obtain a generator $g$ for $G$.\n",
    "2. Create a list called `G` with all the elements of $G$, such that $G[i] := g^i$.\n",
    "\n",
    "*Hint: When $k$ divides $|\\mathbb{F}^\\times|$, $g^k$ generates a group of size $\\frac {|\\mathbb{F}^\\times|}{k}$, and the n-th power of some `FieldElement` $x$ can be computed by calling `x ** n `.*\n",
    "\n",
    "\n",
    "The FieldElement.generator() method returns a field element that is a generator of the field, which means that it generates every element in the field when raised to different powers. In this case, g is set to the generator raised to the power of 3 * 2 ** 20.\n",
    "\n",
    "When computing the value of g by doing the calculation FieldElement.generator() ** (3 * 2 ** 20), we are actually computing the value of 5 ** (3 * 2 ** 20) modulo 3 * 2**30 + 1.\n",
    "\n",
    "As the exponent is very large, the result is the remainder of the division of the value of 5 raised to the 3 * 2 ** 20 by 3 * 2 ** 30 + 1. Because the modulus is prime, we know that the result will be a unique number between 0 and k_modulus-1 which is -1365964089\n"
   ]
  },
  {
   "cell_type": "code",
   "execution_count": 49,
   "metadata": {},
   "outputs": [
    {
     "name": "stdout",
     "output_type": "stream",
     "text": [
      "5\n"
     ]
    }
   ],
   "source": [
    "# Change the following line so that g will generate a group of size 1024\n",
    "# this solution makes sense too.\n",
    "g = FieldElement.generator()\n",
    "print(g)\n",
    "# Fill G with the elements of G such that G[i] := g ** i\n",
    "G = [] \n",
    "G = [g ** i for i in range(1024)]"
   ]
  },
  {
   "cell_type": "markdown",
   "metadata": {},
   "source": [
    "Solution:"
   ]
  },
  {
   "cell_type": "code",
   "execution_count": 56,
   "metadata": {},
   "outputs": [
    {
     "name": "stdout",
     "output_type": "stream",
     "text": [
      "-1365964089\n"
     ]
    }
   ],
   "source": [
    "#todo: check if g = FieldElement.generator() ** (3 * 2 ** 20)//1024 is solution too.\n",
    "\n",
    "g = FieldElement.generator() ** (3 * 2 ** 20)\n",
    "print(g)\n",
    "G = [g ** i for i in range(1024)]"
   ]
  },
  {
   "cell_type": "markdown",
   "metadata": {},
   "source": [
    "Run the next cell to test your code. "
   ]
  },
  {
   "cell_type": "code",
   "execution_count": 47,
   "metadata": {},
   "outputs": [
    {
     "name": "stdout",
     "output_type": "stream",
     "text": [
      "Success!\n"
     ]
    }
   ],
   "source": [
    "# Checks that g and G are correct.\n",
    "assert g.is_order(1024), 'The generator g is of wrong order.'\n",
    "b = FieldElement(1)\n",
    "for i in range(1023):\n",
    "    assert b == G[i], 'The i-th place in G is not equal to the i-th power of g.'\n",
    "    b = b * g\n",
    "    assert b != FieldElement(1), f'g is of order {i + 1}'\n",
    "    \n",
    "if b * g == FieldElement(1):\n",
    "    print('Success!')\n",
    "else:\n",
    "    print('g is of order > 1024')"
   ]
  },
  {
   "cell_type": "markdown",
   "metadata": {},
   "source": [
    "### Polynomial class\n",
    "We provide you with a class called `Polynomial`. The simplest way to construct a `Polynomial` is by using the variable `X` (note that it's a capital `X`) which represents the formal variable $x$:"
   ]
  },
  {
   "cell_type": "code",
   "execution_count": 57,
   "metadata": {},
   "outputs": [
    {
     "name": "stdout",
     "output_type": "stream",
     "text": [
      "9\n"
     ]
    },
    {
     "data": {
      "text/latex": [
       "$ 1 + 2x^{2} $"
      ],
      "text/plain": [
       "<polynomial.Polynomial at 0x18213326340>"
      ]
     },
     "execution_count": 57,
     "metadata": {},
     "output_type": "execute_result"
    }
   ],
   "source": [
    "from polynomial import X\n",
    "# The polynomial 2x^2 + 1.\n",
    "p = 2*X**2 + 1\n",
    "# Evaluate p at 2:\n",
    "print(p(2))\n",
    "# Type a polynomial's name, on its own, in the last line of a cell to display it\n",
    "p"
   ]
  },
  {
   "cell_type": "markdown",
   "metadata": {},
   "source": [
    "### Interpolating a Polynomial\n",
    "Our `polynomial` module provides a Lagrange interpolation function, whose arguments are:\n",
    "* x_values: x-values of G that the polynomial's values for them is known. [List]\n",
    "* y_values: the corresponding y-values. [List]\n",
    "\n",
    "It returns the unique `Polynomial` of degree < `len(x_values)` instance that evaluates to `y_values[i]` on `x_values[i]` for all i.\n",
    "\n",
    "Lagrange interpolation is a method for finding a polynomial that passes through a given set of points.\n",
    "\n",
    "In this case, the function calculate_lagrange_polynomials takes in two arguments, x_values and y_values, which are lists of x-values and y-values respectively. These lists are used to find a polynomial that passes through all the given points.\n",
    "\n",
    "For example, let's say we have the following set of points:\n",
    "(1,2), (2,3), (3,4)\n",
    "\n",
    "We can use the Lagrange interpolation function to find a polynomial that passes through all these points.\n",
    "\n",
    "x_values = [1,2,3]\n",
    "y_values = [2,3,4]\n",
    "\n",
    "polynomial = calculate_lagrange_polynomials(x_values, y_values)\n",
    "\n",
    "The returned polynomial would be of the form: f(x) = ax^2 + bx + c, where a, b, and c are coefficients that are calculated based on the given x-values and y-values.\n",
    "\n",
    "We can then evaluate the polynomial at any point within the domain of the x-values and it would give the corresponding y-value. For example, if we evaluate the polynomial at x = 2, it would give y = 3.\n",
    "\n",
    "In this way, the function calculate_lagrange_polynomials finds a unique polynomial of degree < len(x_values) that evaluates to y_values[i] on x_values[i] for all i.\n",
    "\n",
    "the exponent of the polynomial is 2, is this related to that the number of inputs is 3? \n",
    "\n",
    "Yes, the degree of the polynomial is related to the number of input points used in the Lagrange interpolation.\n",
    "\n",
    "When we have n input points, we need a polynomial of degree n-1 to pass through all of them. This is because a polynomial of degree n-1 has n coefficients that can be adjusted to fit the n input points.\n",
    "\n",
    "For example, in the case you've provided in your example, the polynomial has an exponent of 2 because we have 3 input points. A polynomial of degree 2 (i.e. a quadratic polynomial) has 3 coefficients that can be adjusted to fit the 3 input points.\n",
    "\n",
    "This is why the unique polynomial of degree < len(x_values) is returned because the degree of the polynomial must be one less than the number of input points.\n"
   ]
  },
  {
   "cell_type": "markdown",
   "metadata": {},
   "source": [
    "Run the following cell to get help on the function `interpolate_poly`."
   ]
  },
  {
   "cell_type": "code",
   "execution_count": 58,
   "metadata": {},
   "outputs": [
    {
     "data": {
      "text/plain": [
       "\u001b[1;31mSignature:\u001b[0m \u001b[0minterpolate_poly\u001b[0m\u001b[1;33m(\u001b[0m\u001b[0mx_values\u001b[0m\u001b[1;33m,\u001b[0m \u001b[0my_values\u001b[0m\u001b[1;33m)\u001b[0m\u001b[1;33m\u001b[0m\u001b[1;33m\u001b[0m\u001b[0m\n",
       "\u001b[1;31mDocstring:\u001b[0m\n",
       "Returns a polynomial of degree < len(x_values) that evaluates to y_values[i] on x_values[i] for\n",
       "all i.\n",
       "\u001b[1;31mFile:\u001b[0m      c:\\users\\henry alberto\\desktop\\stark_prover\\stark101\\tutorial\\polynomial.py\n",
       "\u001b[1;31mType:\u001b[0m      function"
      ]
     },
     "metadata": {},
     "output_type": "display_data"
    }
   ],
   "source": [
    "from polynomial import interpolate_poly\n",
    "interpolate_poly?"
   ]
  },
  {
   "cell_type": "markdown",
   "metadata": {},
   "source": [
    "Suppose that `a` contains the values of some polynomial over `G` (except for `G[-1]`, since `a` is one element shorter).\n",
    "Use `interpolate_poly()` to get `f` and get its value at `FieldElement(2)`. "
   ]
  },
  {
   "cell_type": "code",
   "execution_count": null,
   "metadata": {},
   "outputs": [],
   "source": [
    "from polynomial import interpolate_poly\n",
    "# Fix the following so that v will contain the value of f at FieldElement(2)\n",
    "# Note that interpolate_poly may take up to a minute to run.\n",
    "f = interpolate_poly(G[:-1], a)\n",
    "v = f(2)"
   ]
  },
  {
   "cell_type": "markdown",
   "metadata": {},
   "source": [
    "Solution:"
   ]
  },
  {
   "cell_type": "code",
   "execution_count": 66,
   "metadata": {},
   "outputs": [
    {
     "name": "stdout",
     "output_type": "stream",
     "text": [
      "<polynomial.Polynomial object at 0x00000182147684C0>\n",
      "1302089273\n"
     ]
    }
   ],
   "source": [
    "f = interpolate_poly(G[:-1], a)\n",
    "v = f(2)\n",
    "print(v)"
   ]
  },
  {
   "cell_type": "markdown",
   "metadata": {},
   "source": [
    "Run test:"
   ]
  },
  {
   "cell_type": "code",
   "execution_count": 63,
   "metadata": {},
   "outputs": [
    {
     "name": "stdout",
     "output_type": "stream",
     "text": [
      "Success!\n"
     ]
    }
   ],
   "source": [
    "assert v == FieldElement(1302089273)\n",
    "print('Success!')"
   ]
  },
  {
   "cell_type": "markdown",
   "metadata": {},
   "source": [
    "## Evaluating on a Larger Domain\n",
    "The sequence or trace, viewed as evaluations of a polynomial $f$ on $G$, can now be extended by evaluating $f$ over a larger domain, thereby creating a Reed-Solomon error correction code.\n",
    "\n",
    "### Cosets\n",
    "To that end, we must decide on a larger domain on which $f$ will be evaluated. \n",
    "We will work with a domain that is 8 times larger than $G$. <br>A natural choice for such a domain is to take some group $H$ of size 8192 (which exists because 8192 divides $|\\mathbb{F}^\\times|$), and shift it by the generator of $\\mathbb{F}^\\times$, thereby obtaining a [coset](https://en.wikipedia.org/wiki/Coset) of $H$.\n",
    "\n",
    "Create a list called `H` of the elements of $H$, and multiply each of them by the generator of $\\mathbb{F}^\\times$ to obtain a list called `eval_domain`. In other words, eval_domain = $\\{w\\cdot h^i | 0 \\leq i <8192  \\}$ for $h$ the generator of $H$ and $w$ the generator of $\\mathbb{F}^\\times$.\n",
    "\n",
    "Hint: You already know how to obtain $H$ - similarly to the way we got $G$ a few minutes ago.\n"
   ]
  },
  {
   "cell_type": "code",
   "execution_count": 4,
   "metadata": {},
   "outputs": [
    {
     "name": "stdout",
     "output_type": "stream",
     "text": [
      "-1486748106\n"
     ]
    }
   ],
   "source": [
    "# Fix the following, make sure that the the element of h are powers of its generator in \n",
    "# order, that is - H[0] will be the unit, H[1] will be h (H's generator), H[2] will be H's\n",
    "# generator squared, etc.\n",
    "w = FieldElement.generator()\n",
    "h = w **((2**30*3)/8192)\n",
    "print(h)\n",
    "H = [h**i for i in range(8192)]\n",
    "eval_domain = [w*x for x in H]"
   ]
  },
  {
   "cell_type": "markdown",
   "metadata": {},
   "source": [
    "Solution:"
   ]
  },
  {
   "cell_type": "code",
   "execution_count": 68,
   "metadata": {},
   "outputs": [
    {
     "name": "stdout",
     "output_type": "stream",
     "text": [
      "-1486748106\n",
      "1 -1486748106 211283056\n"
     ]
    }
   ],
   "source": [
    "w = FieldElement.generator()\n",
    "h = w ** ((2 ** 30 * 3) // 8192)\n",
    "print(h)\n",
    "H = [h ** i for i in range(8192)]\n",
    "print(H[0],H[1],H[2])\n",
    "eval_domain = [w * x for x in H]\n"
   ]
  },
  {
   "cell_type": "markdown",
   "metadata": {},
   "source": [
    "Run test:\n",
    "\n",
    "The first line checks that all elements in the eval_domain list are unique. The set data structure only keeps unique elements, so if the length of the set of eval_domain is equal to the length of the eval_domain list, it means that there are no duplicate elements in the list.\n",
    "\n",
    "For example:\n",
    "\n",
    "eval_domain = [1, 2, 3, 4, 5]\n",
    "assert len(set(eval_domain)) == len(eval_domain) # this will pass\n",
    "\n",
    "eval_domain = [1, 2, 3, 4, 5, 3]\n",
    "assert len(set(eval_domain)) == len(eval_domain) # this will fail, because 3 is repeated\n",
    "\n",
    "The second assert statement is checking that the element at the index 1 of the list H is equal to the generator h of the group H. The for loop is checking that each element of the list eval_domain is equal to (h*w)^i where w is the generator of the field and i is the index of the element in the list eval_domain. And if all the assert statements are true, the code will print 'Success!'.\n",
    "\n",
    "This assertion (3rd) is checking that the element at index i of the eval_domain list is equivalent to (w_inv * eval_domain[1]) raised to the power of i and then multiplied by w. This is a way to check that all the elements of eval_domain are in the coset of H shifted by the generator of the field element. If this assert statement passes for all i, then it means that the eval_domain list is indeed a coset of H shifted by the generator of the field element as desired."
   ]
  },
  {
   "cell_type": "code",
   "execution_count": 69,
   "metadata": {
    "scrolled": true
   },
   "outputs": [
    {
     "name": "stdout",
     "output_type": "stream",
     "text": [
      "Success!\n"
     ]
    }
   ],
   "source": [
    "from hashlib import sha256\n",
    "assert len(set(eval_domain)) == len(eval_domain)\n",
    "w = FieldElement.generator()\n",
    "w_inv = w.inverse()\n",
    "assert '55fe9505f35b6d77660537f6541d441ec1bd919d03901210384c6aa1da2682ce' == sha256(str(H[1]).encode()).hexdigest(),\\\n",
    "    'H list is incorrect. H[1] should be h (i.e., the generator of H).'\n",
    "for i in range(8192):\n",
    "    assert ((w_inv * eval_domain[1]) ** i) * w == eval_domain[i]\n",
    "print('Success!')"
   ]
  },
  {
   "cell_type": "markdown",
   "metadata": {},
   "source": [
    "### Evaluate on a Coset\n",
    "Time to use `interpolate_poly` and `Polynomial.poly` to evaluate over the coset. Note that it is implemented fairely naively in our Python module, so interpolation may take up to a minute.<br>\n",
    "Indeed - interpolating and evaluating the trace polynomial is one of the most computationally-intensive steps in the STARK protocol, even when using more efficient methods (e.g. FFT)."
   ]
  },
  {
   "cell_type": "code",
   "execution_count": null,
   "metadata": {},
   "outputs": [],
   "source": [
    "# Fill f_eval with the evaluations of f on eval_domain.\n",
    "f = interpolate_poly(G[:-1], a)\n",
    "f_eval = [f(d) for d in eval_domain]"
   ]
  },
  {
   "cell_type": "markdown",
   "metadata": {},
   "source": [
    "Solution:"
   ]
  },
  {
   "cell_type": "code",
   "execution_count": 70,
   "metadata": {},
   "outputs": [],
   "source": [
    "f = interpolate_poly(G[:-1], a)\n",
    "f_eval = [f(d) for d in eval_domain]"
   ]
  },
  {
   "cell_type": "markdown",
   "metadata": {},
   "source": [
    "Run test:\n",
    "\n",
    "This code is testing the output of the f_eval variable, which is the result of evaluating the polynomial f on the eval_domain using the interpolate_poly function. It uses the built-in python library hashlib and specifically the sha256 function to compute a hash of the serialized f_eval variable. Then it compares this computed hash to a precomputed hash value, '1d357f674c27194715d1440f6a166e30855550cb8cb8efeb72827f6a1bf9b5bb'. If the computed hash is equal to the precomputed hash, it will print \"Success!\" indicating that the output is correct. If the computed hash is not equal to the precomputed hash, it will raise an assert exception.\n",
    "\n",
    "An example of how this code might be used is as follows:\n",
    "Let's say we have a function interpolate_poly(x_values, y_values) which takes in 2 lists as inputs, x_values and y_values, and returns a polynomial that goes through all the given points, and then we have a list G which is the group of size 1024 and a list a of y values.\n",
    "\n",
    "G = [FieldElement(x) for x in range(1024)]\n",
    "a = [FieldElement(x*x) for x in range(1024)]\n",
    "\n",
    "Now we want to use this interpolate_poly function to find the polynomial that goes through the points given by G[:-1] and a and evaluate this polynomial on the eval_domain which we created previously.\n",
    "\n",
    "f = interpolate_poly(G[:-1], a)\n",
    "f_eval = [f(d) for d in eval_domain]\n",
    "\n",
    "Now, this code will take this f_eval variable, serialize it and calculate the sha256 hash of the serialized f_eval variable and compare it with the precomputed hash value, '1d357f674c27194715d1440f6a166e30855550cb8cb8efeb72827f6a1bf9b5bb'. If the calculated hash and the precomputed hash are equal, it will print 'Success!' otherwise it will raise an assert exception."
   ]
  },
  {
   "cell_type": "code",
   "execution_count": 71,
   "metadata": {},
   "outputs": [
    {
     "name": "stdout",
     "output_type": "stream",
     "text": [
      "Success!\n"
     ]
    }
   ],
   "source": [
    "# Test against a precomputed hash.\n",
    "from hashlib import sha256\n",
    "from channel import serialize\n",
    "assert '1d357f674c27194715d1440f6a166e30855550cb8cb8efeb72827f6a1bf9b5bb' == sha256(serialize(f_eval).encode()).hexdigest()\n",
    "print('Success!')"
   ]
  },
  {
   "cell_type": "markdown",
   "metadata": {},
   "source": [
    "## Commitments\n",
    "We will use [Sha256](https://en.wikipedia.org/wiki/SHA-2)-based [Merkle Trees](https://en.wikipedia.org/wiki/Merkle_tree) as our commitment scheme.\n",
    "A simple implementation of it is available to you in the `MerkleTree` class.\n",
    "Run the next cell (for the sake of this tutorial, this also serves as a test for correctness of the entire computation so far):\n",
    "\n"
   ]
  },
  {
   "cell_type": "code",
   "execution_count": 72,
   "metadata": {},
   "outputs": [
    {
     "name": "stdout",
     "output_type": "stream",
     "text": [
      "Success!\n"
     ]
    }
   ],
   "source": [
    "from merkle import MerkleTree\n",
    "f_merkle = MerkleTree(f_eval)\n",
    "assert f_merkle.root == '6c266a104eeaceae93c14ad799ce595ec8c2764359d7ad1b4b7c57a4da52be04'\n",
    "print('Success!')"
   ]
  },
  {
   "cell_type": "markdown",
   "metadata": {
    "tags": []
   },
   "source": [
    "## Channel\n",
    "Theoretically, a STARK proof system is a protocol for interaction between two parties - a prover and a verifier. In practice, we convert this interactive protocol into a non-interactive proof using the [Fiat-Shamir Heuristic](https://en.wikipedia.org/wiki/Fiat%E2%80%93Shamir_heuristic). In this tutorial you will use the `Channel` class, which implements this transformation. This channel replaces the verifier in the sense that the prover (which you are writing) will send data, and receive random numbers or random `FieldElement` instances.\n",
    "\n",
    "This simple piece of code instantiates a channel object, sends the root of your Merkle Tree to it. \n",
    "Later, the channel object can be called to provide random numbers or random field elements."
   ]
  },
  {
   "cell_type": "code",
   "execution_count": 73,
   "metadata": {},
   "outputs": [],
   "source": [
    "from channel import Channel\n",
    "channel = Channel()\n",
    "channel.send(f_merkle.root)"
   ]
  },
  {
   "cell_type": "markdown",
   "metadata": {},
   "source": [
    "Lastly - you can retrieve the proof-so-far (i.e., everything that was passed in the channel up until a certain point) by printing the member `Channel.proof`."
   ]
  },
  {
   "cell_type": "code",
   "execution_count": 74,
   "metadata": {},
   "outputs": [
    {
     "name": "stdout",
     "output_type": "stream",
     "text": [
      "['send:6c266a104eeaceae93c14ad799ce595ec8c2764359d7ad1b4b7c57a4da52be04']\n"
     ]
    }
   ],
   "source": [
    "print(channel.proof)"
   ]
  },
  {
   "cell_type": "code",
   "execution_count": null,
   "metadata": {},
   "outputs": [],
   "source": []
  }
 ],
 "metadata": {
  "kernelspec": {
   "display_name": "Python 3 (ipykernel)",
   "language": "python",
   "name": "python3"
  },
  "language_info": {
   "codemirror_mode": {
    "name": "ipython",
    "version": 3
   },
   "file_extension": ".py",
   "mimetype": "text/x-python",
   "name": "python",
   "nbconvert_exporter": "python",
   "pygments_lexer": "ipython3",
   "version": "3.9.7"
  }
 },
 "nbformat": 4,
 "nbformat_minor": 4
}
